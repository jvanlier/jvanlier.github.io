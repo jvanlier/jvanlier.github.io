{
 "cells": [
  {
   "cell_type": "markdown",
   "metadata": {},
   "source": [
    "Practical Statistics for Coders - Part One\n",
    "======\n",
    "Inspired by Jake VanderPlas' talk titled [Statistics for Hackers](https://www.youtube.com/watch?v=Iq9DzN6mvYA) and John Rauser's talk [Statistics Without the Agonizing Pain](https://www.youtube.com/watch?v=5Dnw46eC-0o), I thought I'd explore the idea a bit further with a Python-first approach. The central thesis of these talks is: if you can code, you can do statistics. \n",
    "\n",
    "This made me think about when I first got into statistics a few years ago. I went through the free [OpenIntro Statistics eBook](https://www.openintro.org/stat/) (second edition at the time). It’s a very accessible book, but some things are a bit… let’s say, traditional. Like having to learn a whole list of rules and formulas, looking up values in frequency tables, etc. If you have access to a computer and can write a for loop (or a list comprehension), statistics can actually be much simpler than what these books may lead you to believe. \n",
    "\n",
    "I'll talk you through a couple of introductory examples in this post and plan to ramp up the complexity in future posts."
   ]
  },
  {
   "cell_type": "code",
   "execution_count": 1,
   "metadata": {
    "collapsed": true
   },
   "outputs": [],
   "source": [
    "import numpy as np\n",
    "import matplotlib.pyplot as plt\n",
    "from scipy.stats import norm, binom\n",
    "\n",
    "%matplotlib inline"
   ]
  },
  {
   "cell_type": "markdown",
   "metadata": {},
   "source": [
    "## Coin toss\n",
    "Most of these things start with a coin toss example. I'll just follow suit because it's a good way to warm up.\n",
    "\n",
    "Suppose that you have a coin and you want to determine if it's biased towards landing as heads when tossed. Before tossing it, you have no reason to think that it's biased, so you assume it's fair.\n",
    "\n",
    "You decide to toss it 20 times and count the amount of heads. You're willing to let go of your initial assumption that it's *not* biased if the amount of heads you observed is very unlikely to have occured by chance. \n",
    "\n",
    "This is a hypothesis test. In a hypothesis test, you assume there is nothing going on - the coin is not biased (this is $H_0$) and you're looking for evidence to the contrary.\n",
    "\n",
    "What's *very unlikely*? Let's say somebody else has done this same experiment a 100 times with a coin that has been proven to be completely fair. Even this fair coin will sometimes land as heads (much) more often than tails. This is purely due to chance. On average, you'd see 10 heads in 20 tosses. The outcomes of these experiments, taken together, form a *distribution*.\n",
    "\n",
    "The result that you observe with the coin you're testing can be compared to this distribution. You decide that if the amount of heads that you observed with the coin you're testing, or something even more extreme (even more heads!), only occurred in less than 5% of the repeated experiments that form the distribution, the coin you used is likely not fair.\n",
    "\n",
    "Now imagine that your coin came up with 15 heads. Let's see how often a fair coin would indeed come up with 15+ heads if you toss it 20 times. That \"somebody else\" I mentioned earlier can be a computer, and instead of 100 repeats a computer can easily repeat it 100,000 times."
   ]
  },
  {
   "cell_type": "code",
   "execution_count": 3,
   "metadata": {
    "scrolled": true
   },
   "outputs": [
    {
     "name": "stdout",
     "output_type": "stream",
     "text": [
      "1971 times out of 100000 we observed 15 heads or more\n"
     ]
    }
   ],
   "source": [
    "n_simulations = 100000\n",
    "n_tosses = 20\n",
    "n_heads = 15\n",
    "\n",
    "# Use np.random.choice to simulate coin tosses. A 1 counts as heads:\n",
    "results = [sum(np.random.choice([0, 1], size=n_tosses)) \n",
    "           for _ in range(n_simulations)]\n",
    "num_n_heads_or_more = len([r for r in results if r >= n_heads])\n",
    "\n",
    "print(\"{} times out of {} we observed {} heads or more\"\n",
    "      .format(num_n_heads_or_more, n_simulations, n_heads))"
   ]
  },
  {
   "cell_type": "markdown",
   "metadata": {},
   "source": [
    "Let's see what this looks like:"
   ]
  },
  {
   "cell_type": "code",
   "execution_count": 4,
   "metadata": {},
   "outputs": [
    {
     "data": {
      "image/png": "[encoded data removed]",
      "text/plain": [
       "<matplotlib.figure.Figure at 0x107c8b080>"
      ]
     },
     "metadata": {},
     "output_type": "display_data"
    }
   ],
   "source": [
    "hist_min = 5\n",
    "hist = plt.hist(results, bins=n_tosses - hist_min, range=(hist_min, n_tosses))\n",
    "plt.vlines(n_heads, 0, max(hist[0]), color='orange', lw=3)\n",
    "plt.title(\"{n_sim} coin toss simulations, {n_t} tosses each\"\n",
    "          .format(n_sim=n_simulations, n_t=n_tosses))\n",
    "plt.xlabel(\"Amount of heads\"); plt.ylabel(\"count\"); "
   ]
  },
  {
   "cell_type": "markdown",
   "metadata": {},
   "source": [
    "The fraction of times that you saw 15 heads or more is what's called a p-value! This is the probability to observe the result of your experiment, or something more extreme than that, if the coin is unbiased (if $H_0$ is true)."
   ]
  },
  {
   "cell_type": "code",
   "execution_count": 5,
   "metadata": {},
   "outputs": [
    {
     "name": "stdout",
     "output_type": "stream",
     "text": [
      "0.02164\n"
     ]
    }
   ],
   "source": [
    "p_value = num_n_heads_or_more / n_simulations\n",
    "print(p_value)"
   ]
  },
  {
   "cell_type": "markdown",
   "metadata": {},
   "source": [
    "Only 2% of the time!\n",
    "\n",
    "This is less than 5%, the **significance level** that you decided on initially. Now you can conclude that the coin is indeed biased: the probability of this (or something more extreme) happening by chance for an unbiased coin is very small.\n",
    "\n",
    "What you would have done if you followed the textbook, is to take the binomial probability formula:\n",
    "\n",
    "$ {\\displaystyle \\textstyle {n \\choose k}\\,p^{k}(1-p)^{n-k}}$\n",
    "\n",
    "and sum the probabilities for every bin from 15 up to 20:\n",
    "\n",
    "${\\displaystyle \\textstyle {20 \\choose 15}\\,\\frac{1}{2}^{15}(1-\\frac{1}{2})^{20-15}} +$\n",
    "\n",
    "$ {\\displaystyle \\textstyle {20 \\choose 16}\\,\\frac{1}{2}^{16}(1-\\frac{1}{2})^{20-16}} + $\n",
    "\n",
    "$ {\\displaystyle \\textstyle {20 \\choose 17}\\,\\frac{1}{2}^{17}(1-\\frac{1}{2})^{20-17}} + $\n",
    "\n",
    "$ {\\displaystyle \\textstyle {20 \\choose 18}\\,\\frac{1}{2}^{18}(1-\\frac{1}{2})^{20-18}} + $\n",
    "\n",
    "$ {\\displaystyle \\textstyle {20 \\choose 19}\\,\\frac{1}{2}^{19}(1-\\frac{1}{2})^{20-19} +} $\n",
    "\n",
    "$ {\\displaystyle \\textstyle {20 \\choose 20}\\,\\frac{1}{2}^{20}} \\approx 0.0207 $\n",
    "\n",
    "It's faster to directly use the formula for the Cumulative Distribution Function (CDF), but I haven't seen that one in my textbook. Either way, it seems like a lot more work than writing a for loop.\n",
    "\n",
    "Of course, the `pmf()` function (Probability Mass Function) in the `scipy.stats.binom` module can be used to evaluate the function instead of doing the math manually like I did above. It accepts a list for variable `k` so you can compute multiple probabilities in one go:"
   ]
  },
  {
   "cell_type": "code",
   "execution_count": 6,
   "metadata": {},
   "outputs": [
    {
     "data": {
      "text/plain": [
       "0.020694732666015542"
      ]
     },
     "execution_count": 6,
     "metadata": {},
     "output_type": "execute_result"
    }
   ],
   "source": [
    "sum(binom.pmf(n=n_tosses, k=[15,16,17,18,19,20], p=0.5))"
   ]
  },
  {
   "cell_type": "markdown",
   "metadata": {},
   "source": [
    "A faster way of doing that is just calling the Survial Function, which is 1-the CDF:"
   ]
  },
  {
   "cell_type": "code",
   "execution_count": 7,
   "metadata": {},
   "outputs": [
    {
     "data": {
      "text/plain": [
       "0.020694732666015625"
      ]
     },
     "execution_count": 7,
     "metadata": {},
     "output_type": "execute_result"
    }
   ],
   "source": [
    "binom.sf(n=n_tosses, k=n_heads-1, p=0.5)"
   ]
  },
  {
   "cell_type": "markdown",
   "metadata": {
    "collapsed": true
   },
   "source": [
    "So, here you go: 3 ways to compute the same answer. You can remember these functions if you like, but the point of this all is that you don't have to! As long as you can reason about how to data was generated in the first place and can write a simple for loop."
   ]
  },
  {
   "cell_type": "markdown",
   "metadata": {},
   "source": [
    "# Statistical significance of a mean"
   ]
  },
  {
   "cell_type": "markdown",
   "metadata": {},
   "source": [
    "Suppose you want to find out if the average height of adults has increased. We are told that some time ago, it was normally distributed with a mean of 165 cm and a standard deviation of 20 cm. This is the null hypothesis, or $H_0$. We assume that this is still the case. $H_A$ is the alternative hypothesis, claiming that the average height increased.\n",
    "\n",
    "You are handed a random sample of heights for adults, say n = 100 (assume the heights are independent and unbiased, i.e. representative of the general population)."
   ]
  },
  {
   "cell_type": "code",
   "execution_count": 8,
   "metadata": {
    "collapsed": true
   },
   "outputs": [],
   "source": [
    "# H0 values; we know this from a previous experiment:\n",
    "μ = 165\n",
    "σ = 20"
   ]
  },
  {
   "cell_type": "code",
   "execution_count": 9,
   "metadata": {},
   "outputs": [
    {
     "data": {
      "image/png": "[encoded data removed]",
      "text/plain": [
       "<matplotlib.figure.Figure at 0x107f96b38>"
      ]
     },
     "metadata": {},
     "output_type": "display_data"
    }
   ],
   "source": [
    "# Generate the random sample\n",
    "μ_new = 170  # (we don't know this!)\n",
    "σ_new = σ\n",
    "\n",
    "np.random.seed(3)\n",
    "n = 100\n",
    "sample = norm.rvs(loc=μ_new, scale=σ_new, size=n)\n",
    "\n",
    "plt.hist(sample, bins=15);\n",
    "plt.title(\"Sample of {} heights for adults\".format(n))\n",
    "plt.xlabel(\"height [cm]\"); plt.ylabel(\"count\");"
   ]
  },
  {
   "cell_type": "code",
   "execution_count": 10,
   "metadata": {},
   "outputs": [
    {
     "data": {
      "text/plain": [
       "167.8272585118788"
      ]
     },
     "execution_count": 10,
     "metadata": {},
     "output_type": "execute_result"
    }
   ],
   "source": [
    "sample_mean = np.mean(sample)\n",
    "sample_mean"
   ]
  },
  {
   "cell_type": "markdown",
   "metadata": {},
   "source": [
    "This seems like it's more than 165. But we can't reject $H_0$ just yet. What we're seeing here might be due to random fluctuations.\n",
    "\n",
    "We are still assuming that $H_0$ is true, so what we can do now is simulate taking a whole bunch of samples under the $H_0$ assumption and calculate the mean every time. Let's see what the distribution of means looks like:"
   ]
  },
  {
   "cell_type": "code",
   "execution_count": 11,
   "metadata": {},
   "outputs": [
    {
     "data": {
      "image/png": "[encoded data removed]",
      "text/plain": [
       "<matplotlib.figure.Figure at 0x107f27908>"
      ]
     },
     "metadata": {},
     "output_type": "display_data"
    }
   ],
   "source": [
    "n_sims = 100000\n",
    "\n",
    "means = [np.mean(norm.rvs(loc=μ, scale=σ, size=n)) for _ in range(n_sims)]\n",
    "    \n",
    "hist = plt.hist(means, bins=20);\n",
    "plt.vlines(sample_mean, 0, max(hist[0]), color='orange', lw=3)\n",
    "plt.title(\"Distribution of sample means for adult heights with n = {}\".format(n))\n",
    "plt.xlabel(\"height [cm]\"); plt.ylabel(\"count\");"
   ]
  },
  {
   "cell_type": "markdown",
   "metadata": {},
   "source": [
    "Notice that this distribution is much narrower. \n",
    "A distribution such as this one is actually called a **sampling distribution** and is key to understanding these concepts.\n",
    "\n",
    "Ok, now we proceed in the same way as before. How many of the means are $\\geq$ the sample mean?"
   ]
  },
  {
   "cell_type": "code",
   "execution_count": 12,
   "metadata": {},
   "outputs": [
    {
     "data": {
      "text/plain": [
       "0.07868"
      ]
     },
     "execution_count": 12,
     "metadata": {},
     "output_type": "execute_result"
    }
   ],
   "source": [
    "len([m for m in means if m >= sample_mean]) / n_sims"
   ]
  },
  {
   "cell_type": "markdown",
   "metadata": {},
   "source": [
    "Alright, so about 8% of the time we would see a result like the one we observed, or an even higher estimate.\n",
    "Typically, $H_0$ won't get rejected because the value is larger than the traditional significance level of 0.05. The result isn't statistically significant. In other words, we simply don't have enough data to prove that 165 is wrong.\n",
    "\n",
    "Of course, we *know* that it is wrong, because we simulated the sample with $\\mu$=170. But remember that we normally don't know that this is the case. We got unlucky with the sample mean, because it ended up quite a bit lower than 170. If we double the sample size from 100 to 200, it would have been statistically significant (you can try this yourself)."
   ]
  },
  {
   "cell_type": "markdown",
   "metadata": {},
   "source": [
    "Ok, now the textbook method:\n",
    "\n",
    "We have to calculate something called a Z-score: \n",
    "\n",
    "$\\displaystyle Z = \\frac{\\bar{x} - \\mu}{\\sigma} = \\frac{167.827 - 165}{\\sigma}$\n",
    "\n",
    "The $\\sigma$ we have to use here isn't the one that we knew initially for $H_0$, because that one relates to the entire distribution of heights. We need to use the $\\sigma$ for the sample mean, the **standard error**. Statistics theory tells us that this can be approximated by:\n",
    "\n",
    "$\\displaystyle SE_\\bar{x}  = \\frac{\\sigma}{\\sqrt{n}} = \\frac{20}{\\sqrt{100}} = 2$\n",
    "\n",
    "This is much lower than 20, which makes sense if you consider how narrow the distribution of means is.\n",
    "\n",
    "The Z-score is: $\\displaystyle \\frac{167.827 - 165}{2} = 1.414$\n",
    "\n",
    "Looking this up in a table yields 0.9207:\n",
    "\n",
    "![Z-table](img/z_table.png)\n",
    "\n",
    "Now you have to remember that this is the area on the left side. So 1 - 0.9207 = 0.0793 is our p-value. Which is close enough to the simulation.\n",
    "\n",
    "Here's a quick Python shortcut that avoids using a probability table, again with the Survival Function:"
   ]
  },
  {
   "cell_type": "code",
   "execution_count": 13,
   "metadata": {},
   "outputs": [
    {
     "data": {
      "text/plain": [
       "0.078680951241157648"
      ]
     },
     "execution_count": 13,
     "metadata": {},
     "output_type": "execute_result"
    }
   ],
   "source": [
    "# Inserted the Z-score; norm.sf() defaults to the standard normal distribution:\n",
    "norm.sf(1.414)  "
   ]
  },
  {
   "cell_type": "code",
   "execution_count": 14,
   "metadata": {},
   "outputs": [
    {
     "data": {
      "text/plain": [
       "0.078735393329218806"
      ]
     },
     "execution_count": 14,
     "metadata": {},
     "output_type": "execute_result"
    }
   ],
   "source": [
    "# Inserted the sample mean; have to include H0 mean and Standard Error:\n",
    "norm.sf(sample_mean, loc=μ, scale=σ/np.sqrt(n))  "
   ]
  },
  {
   "cell_type": "markdown",
   "metadata": {},
   "source": [
    "`scipy.stats.norm.sf()` is useful to remember if you do this a lot and don't want to write a loop every time. But I find that thinking about the data generation process and simulating that is a more natural way to handle these problems."
   ]
  },
  {
   "cell_type": "markdown",
   "metadata": {},
   "source": [
    "# Closing notes"
   ]
  },
  {
   "cell_type": "markdown",
   "metadata": {},
   "source": [
    "The key takeaway here is the concept of generating the sampling distribution (under $H_0$), and then using that to reason about the probability of observing the thing you observed, assuming that $H_0$ is true. To generating the distribution, you need to have some theory about how the data was generated, i.e. a *generative model*. We had that in these examples, but we're not always this lucky! The next post in this series includes an example for a situation in which we don't have a generative model."
   ]
  }
 ],
 "metadata": {
  "kernelspec": {
   "display_name": "Python 3",
   "language": "python",
   "name": "python3"
  },
  "language_info": {
   "codemirror_mode": {
    "name": "ipython",
    "version": 3
   },
   "file_extension": ".py",
   "mimetype": "text/x-python",
   "name": "python",
   "nbconvert_exporter": "python",
   "pygments_lexer": "ipython3",
   "version": "3.6.1"
  }
 },
 "nbformat": 4,
 "nbformat_minor": 2
}
